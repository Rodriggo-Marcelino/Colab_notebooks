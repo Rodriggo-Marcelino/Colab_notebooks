{
  "nbformat": 4,
  "nbformat_minor": 0,
  "metadata": {
    "colab": {
      "provenance": [],
      "authorship_tag": "ABX9TyPbbPO/FNAJHdveHY8/BnQa",
      "include_colab_link": true
    },
    "kernelspec": {
      "name": "python3",
      "display_name": "Python 3"
    },
    "language_info": {
      "name": "python"
    }
  },
  "cells": [
    {
      "cell_type": "markdown",
      "metadata": {
        "id": "view-in-github",
        "colab_type": "text"
      },
      "source": [
        "<a href=\"https://colab.research.google.com/github/Rodriggo-Marcelino/Colab_notebooks/blob/rodriggo/estudando_python.ipynb\" target=\"_parent\"><img src=\"https://colab.research.google.com/assets/colab-badge.svg\" alt=\"Open In Colab\"/></a>"
      ]
    },
    {
      "cell_type": "code",
      "execution_count": null,
      "metadata": {
        "id": "p63VbIChMNm5"
      },
      "outputs": [],
      "source": [
        "print(\"hello world\")"
      ]
    },
    {
      "cell_type": "markdown",
      "source": [
        "# Introdução ao curso de **python**\n",
        "\n",
        "Entrada de dados\n",
        "\n",
        "-Basicamente o input se refere a entrada de dados dentro de uma variavel.\n",
        "\n",
        "\n",
        "-Outro ponto importante é que podemos efetuar o casting no qual limitamos a entrada de dados para um tipo especifico, um exemplo é a variavel idade, onde não podemos receber um texto, limitamos a entrada para o tipo int, assim o usuario não poderá digitar algo diferente de um numero inteiro.\n"
      ],
      "metadata": {
        "id": "zxz3eKDkOgzN"
      }
    },
    {
      "cell_type": "code",
      "source": [
        "nome = str(input(\"Digite seu nome:\"))\n",
        "idade = int(input('Digite sua idade:'))\n",
        "peso = float(input('Digite seu peso:'))\n",
        "\n",
        "print(nome)\n",
        "print(idade)\n",
        "print(peso)"
      ],
      "metadata": {
        "id": "TWsSp13oMwvr"
      },
      "execution_count": null,
      "outputs": []
    },
    {
      "cell_type": "markdown",
      "source": [
        "# Dentro do print podemos encapsular o nome da variavel em uma função chamada **type** onde ela irá retornar o tipo da variavel.  "
      ],
      "metadata": {
        "id": "xTi73x0oQKGZ"
      }
    },
    {
      "cell_type": "code",
      "source": [
        "print(type(nome))\n",
        "print(type(idade))\n",
        "print(type(peso))\n"
      ],
      "metadata": {
        "id": "QxgE9S-TN8p5"
      },
      "execution_count": null,
      "outputs": []
    },
    {
      "cell_type": "markdown",
      "source": [
        "# Operadores aritimeticos\n",
        "\n",
        "Aqui vemos os operadores aritimeticos, com eles podemos efetuar calculos."
      ],
      "metadata": {
        "id": "vpJuOUhrmW2S"
      }
    },
    {
      "cell_type": "code",
      "source": [
        "soma = 1+1\n",
        "subtracao = 9-2\n",
        "multiplicacao = 4*4\n",
        "divisao = 30/3\n",
        "potenciacao = 7**2\n",
        "\n",
        "print(\"soma: \", soma)\n",
        "print(\"subtação: \", subtracao)\n",
        "print(\"multiplicação: \", multiplicacao)\n",
        "print(\"divisão: \", divisao)\n",
        "print(\"potenciação: \", potenciacao)"
      ],
      "metadata": {
        "id": "1XCky3OVRRqp"
      },
      "execution_count": null,
      "outputs": []
    },
    {
      "cell_type": "markdown",
      "source": [
        "# Operadores logicos e condicionais\n",
        "\n",
        "O primiro passo para enterdermos condicionais é que ela sempre irá retornar um valor boletano ou seja, verdadeiro e falso (true, false).\n",
        "\n",
        "com isso temos os operadores logicos e os operadores de comparação.\n",
        "\n",
        "\n",
        "1.   `and`: Retorna True se ambos os operandos forem verdadeiros.\n",
        "2.   `or`: Retorna True se pelo menos um dos operandos for verdadeiro.\n",
        "3.   `not`: Retorna True se o operando for falso e False se for verdadeiro, invertendo assim o valor booleano.\n",
        "\n",
        "Logo mais temos os operadores de comparação:\n",
        "\n",
        "1. `==`: Igual a\n",
        "2. `!=`: Diferente de\n",
        "3. `<`: Menor que\n",
        "4. `<=`: Menor ou igual a\n",
        "5. `>`: Maior que\"\n",
        "6. `>=`: Maior ou igual a\n",
        "\n",
        "Todos esses comparades são usando dentro de condicionais.\n",
        "\n",
        "\n",
        "\n",
        "\n",
        "\n",
        "\n"
      ],
      "metadata": {
        "id": "bvRTKzCGm9Of"
      }
    },
    {
      "cell_type": "code",
      "source": [
        "idade = int(input(\"Digite sua idade: \"))\n",
        "\n",
        "if idade >= 18:\n",
        "    print(\"permitido\")\n",
        "else:\n",
        "    print(\"bloqueado\")"
      ],
      "metadata": {
        "id": "9p0okh_tTLZE"
      },
      "execution_count": null,
      "outputs": []
    },
    {
      "cell_type": "code",
      "source": [
        "salario = float(input(\"Digite seu salario: \"))\n",
        "\n",
        "if salario <= 3000:\n",
        "    print(\"programador junior\")\n",
        "elif salario > 3000 and salario <= 6000:\n",
        "    print(\"programador pleno\")\n",
        "elif salario > 6000 and salario <= 15000:\n",
        "    print(\"programador senior\")\n",
        "else:\n",
        "    print(\"gerente de projetos\")"
      ],
      "metadata": {
        "id": "7qyzFJbgUuD3"
      },
      "execution_count": null,
      "outputs": []
    },
    {
      "cell_type": "markdown",
      "source": [
        "# Listas\n",
        "\n",
        "A lista é uma variavel que pode armazenar varios valores ao mesmo tempo, esses valores podem ser de diferentes tipos simultaneamente.\n",
        "\n",
        "para acessar a posição na lista basta usar `nome_da_variavel[1]` entre colchetes o valor equivale a posição do array começando sempre do `0`."
      ],
      "metadata": {
        "id": "6o9AsKQNpYAd"
      }
    },
    {
      "cell_type": "code",
      "source": [
        "lista_numeros = [1,2,3]\n",
        "\n",
        "print(lista_numeros[0])\n",
        "print(lista_numeros[1])\n",
        "print(lista_numeros[2])"
      ],
      "metadata": {
        "id": "ss-Wteg6eZoM"
      },
      "execution_count": null,
      "outputs": []
    },
    {
      "cell_type": "markdown",
      "source": [
        "# Laços de repetição ou loops\n",
        "\n",
        "\n",
        "Os laços de repetição tem diversas utilidades, mas de maneira mais chula a utilidade dela é repetir o algoritimo dentro dela uma certa quantidade de vezes.\n"
      ],
      "metadata": {
        "id": "KvMEqzUVtLwl"
      }
    },
    {
      "cell_type": "markdown",
      "source": [
        "For\n",
        "\n",
        "vamos começar com o for, usando esse algoritmo como exemplo, criamos 2 laços de repetição `for` com a utilidade de inserir um array com os valores de `[codigo_aluno,nota]` dentro do array notas, quando criamos o `range(5)` definimos que o algoritmo irá se repetir 5x com isso no final teremos um array assim: `notas = [[codigo_aluno,nota],[codigo_aluno,nota],[codigo_aluno,nota],[codigo_aluno,nota],[codigo_aluno,nota]]`"
      ],
      "metadata": {
        "id": "ph1GECNbt2Gd"
      }
    },
    {
      "cell_type": "code",
      "source": [
        "notas = []\n",
        "\n",
        "for i in range(5):\n",
        "    codigo_aluno = input(\"RM: \")\n",
        "    nota = float(input(\"Nota: \"))\n",
        "    resultado = [codigo_aluno, nota]\n",
        "    notas.append(resultado)\n",
        "\n",
        "print(\"quantidade de notas\", len(notas))"
      ],
      "metadata": {
        "id": "c_-XzXede1KD"
      },
      "execution_count": null,
      "outputs": []
    },
    {
      "cell_type": "markdown",
      "source": [
        "já nesse segundo `for` o objetivo e percorrer a matriz gerada anteriormente.\n",
        "\n",
        "Podemos dentro do `for`, usar o array criado como parametro de tamanho em vez de usar o `range()`."
      ],
      "metadata": {
        "id": "e4GCmQ0JvdAL"
      }
    },
    {
      "cell_type": "code",
      "source": [
        "for n in notas:\n",
        "    codigo_aluno = n[0]\n",
        "    nota = n[1]\n",
        "    print(\"o RM:\", codigo_aluno, \"tirou a nota: \", nota)"
      ],
      "metadata": {
        "id": "hHw39eVavZDb"
      },
      "execution_count": null,
      "outputs": []
    },
    {
      "cell_type": "code",
      "source": [
        "print(list(notas))"
      ],
      "metadata": {
        "id": "xyY088xSh3fY"
      },
      "execution_count": null,
      "outputs": []
    },
    {
      "cell_type": "markdown",
      "source": [
        "Em sequida criamos uma alternativa para o primeiro laço de repetição descrito anteriormente, para inserir os dados\n",
        "\n",
        "O `while` pode ser usado com uma operação logica, ou seja funciona como uma condicional, enquanto aquela condicional não for satisfeita o laço continuará, oq usamos como parametro foi uma variavel chamada `contador` que ela inicia com o valor 1, e a cada iteração do loop ela efetua um incremento, que quando esse numero chegar em 6 o programa irá finalizar  "
      ],
      "metadata": {
        "id": "1wOEnO1swUCy"
      }
    },
    {
      "cell_type": "code",
      "source": [
        "notas = []\n",
        "\n",
        "contador = 1\n",
        "\n",
        "while contador <= 5:\n",
        "    codigo_aluno = input(\"RM: \")\n",
        "    nota = float(input(\"Nota: \"))\n",
        "    resultado = [codigo_aluno, nota]\n",
        "    notas.append(resultado)\n",
        "\n",
        "    contador+=1\n",
        "print(\"quantidade de notas: \", len(notas))"
      ],
      "metadata": {
        "id": "MCXliV9giFYO"
      },
      "execution_count": null,
      "outputs": []
    },
    {
      "cell_type": "markdown",
      "source": [
        "# Dicionarios\n",
        "\n",
        "Os dicionarios funcionam como os arrays, porém nomeamos cada posição."
      ],
      "metadata": {
        "id": "gYjQ5tUJx--2"
      }
    },
    {
      "cell_type": "code",
      "source": [
        "pessoa = {\n",
        "    \"nome\": \"rodriggo\",\n",
        "    \"idade\": 22,\n",
        "    \"peso\": 80.5\n",
        "}\n",
        "\n",
        "print(pessoa['nome'])\n",
        "print(pessoa['idade'])\n",
        "print(pessoa['peso'])"
      ],
      "metadata": {
        "colab": {
          "base_uri": "https://localhost:8080/"
        },
        "id": "JpUPh9qXi3ch",
        "outputId": "e842a453-8ba1-4fda-8f76-828b63cdd2ed"
      },
      "execution_count": null,
      "outputs": [
        {
          "output_type": "stream",
          "name": "stdout",
          "text": [
            "rodriggo\n",
            "22\n",
            "80.5\n"
          ]
        }
      ]
    },
    {
      "cell_type": "markdown",
      "source": [
        "Tambem é possivel usar laços de repetição pra os dicionarios."
      ],
      "metadata": {
        "id": "_s87Swivy9z0"
      }
    },
    {
      "cell_type": "code",
      "source": [
        "player = {\n",
        "    \"nome\": \"rodriggo\",\n",
        "    \"level\": 1,\n",
        "    \"hp\": 100,\n",
        "    \"exp\": 0,\n",
        "    \"dano\": 5\n",
        "}\n",
        "\n",
        "npcs = [\n",
        "    {\"nome\": \"monstrinho\", \"dano\": 2, \"hp\":50, \"exp\": 5},\n",
        "    {\"nome\": \"elfo\", \"dano\": 2, \"hp\": 100, \"exp\": 5},\n",
        "    {\"nome\": \"mago\", \"dano\": 5, \"hp\": 150, \"exp\": 6},\n",
        "    {\"nome\": \"dragão\", \"dano\": 6, \"hp\": 200, \"exp\": 10}\n",
        "]\n",
        "\n",
        "for i in npcs:\n",
        "    print(i[\"nome\"])"
      ],
      "metadata": {
        "colab": {
          "base_uri": "https://localhost:8080/"
        },
        "id": "78x3nyGujx_M",
        "outputId": "f7688e0f-3469-4a19-ed31-a5cacc49b350"
      },
      "execution_count": null,
      "outputs": [
        {
          "output_type": "stream",
          "name": "stdout",
          "text": [
            "monstrinho\n",
            "elfo\n",
            "mago\n",
            "dragão\n"
          ]
        }
      ]
    }
  ]
}