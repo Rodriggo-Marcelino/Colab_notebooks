{
  "nbformat": 4,
  "nbformat_minor": 0,
  "metadata": {
    "colab": {
      "provenance": [],
      "authorship_tag": "ABX9TyNrKQmyArPhrWambFIWrU22",
      "include_colab_link": true
    },
    "kernelspec": {
      "name": "python3",
      "display_name": "Python 3"
    },
    "language_info": {
      "name": "python"
    }
  },
  "cells": [
    {
      "cell_type": "markdown",
      "metadata": {
        "id": "view-in-github",
        "colab_type": "text"
      },
      "source": [
        "<a href=\"https://colab.research.google.com/github/Rodriggo-Marcelino/Colab_notebooks/blob/rodriggo/pratica_python.ipynb\" target=\"_parent\"><img src=\"https://colab.research.google.com/assets/colab-badge.svg\" alt=\"Open In Colab\"/></a>"
      ]
    },
    {
      "cell_type": "markdown",
      "source": [
        "Forma feita por min"
      ],
      "metadata": {
        "id": "t5ZVMxUKOT3B"
      }
    },
    {
      "cell_type": "code",
      "execution_count": null,
      "metadata": {
        "id": "JIpAOkcsjqDY"
      },
      "outputs": [],
      "source": [
        "lista_numeros = []\n",
        "nova_lista = []\n",
        "\n",
        "while True:\n",
        "    entrada = int(input(\"digite o valor para entrada de dados\"))\n",
        "    lista_numeros.append(entrada)\n",
        "    decisao = input(\"deseja continuar a aplicação? S - sim N - não\")\n",
        "    if decisao == 'n':\n",
        "        break\n",
        "\n",
        "for numero in lista_numeros:\n",
        "    if numero % 2 == 0:\n",
        "        nova_lista.append(numero)\n",
        "\n",
        "\n",
        "print(lista_numeros)\n",
        "print(nova_lista)"
      ]
    },
    {
      "cell_type": "markdown",
      "source": [
        "Forma feita pelo chat gpt"
      ],
      "metadata": {
        "id": "0Qm7RCT9OYZo"
      }
    },
    {
      "cell_type": "code",
      "source": [
        "lista_numeros = []\n",
        "nova_lista = []\n",
        "\n",
        "# Solicita ao usuário que insira os números\n",
        "while True:\n",
        "    try:\n",
        "        entrada = int(input(\"Digite um número inteiro (ou qualquer outro caractere para sair): \"))\n",
        "        lista_numeros.append(entrada)\n",
        "    except ValueError:\n",
        "        print(\"Entrada inválida. Saindo...\")\n",
        "        break\n",
        "\n",
        "    decisao = input(\"Deseja continuar? (S/N): \")\n",
        "    if decisao.lower() == 'n':\n",
        "        break\n",
        "\n",
        "# Filtra os números pares\n",
        "for numero in lista_numeros:\n",
        "    if numero % 2 == 0:\n",
        "        nova_lista.append(numero)\n",
        "\n",
        "# Exibe as listas original e nova\n",
        "print(\"Lista original:\", lista_numeros)\n",
        "print(\"Lista de números pares:\", nova_lista)\n"
      ],
      "metadata": {
        "id": "89-2R7yrOc8h"
      },
      "execution_count": null,
      "outputs": []
    },
    {
      "cell_type": "markdown",
      "source": [
        "feita por min"
      ],
      "metadata": {
        "id": "-xgRYf62Tw5F"
      }
    },
    {
      "cell_type": "code",
      "source": [
        "palavras = ['rodriggo','rodriggo','rodriggo','marcelino','hoje','hoje']\n",
        "numero_de_palavras = {}\n",
        "for palavra in palavras:\n",
        "    quantidade = palavras.count(palavra)\n",
        "    numero_de_palavras[palavra] = quantidade\n",
        "print(numero_de_palavras)\n"
      ],
      "metadata": {
        "id": "zSBvYXoAPZVZ"
      },
      "execution_count": null,
      "outputs": []
    },
    {
      "cell_type": "markdown",
      "source": [
        "feita pelo gpt"
      ],
      "metadata": {
        "id": "LGtopNAZTyy9"
      }
    },
    {
      "cell_type": "code",
      "source": [
        "# Itera sobre a lista de palavras\n",
        "for palavra in palavras:\n",
        "    # Verifica se a palavra já está no dicionário\n",
        "    if palavra in numero_de_palavras:\n",
        "        # Se estiver, incrementa a contagem\n",
        "        numero_de_palavras[palavra] += 1\n",
        "    else:\n",
        "        # Se não estiver, adiciona a palavra ao dicionário com contagem inicial de 1\n",
        "        numero_de_palavras[palavra] = 1\n",
        "\n",
        "# Exibe o dicionário resultante\n",
        "print(numero_de_palavras)"
      ],
      "metadata": {
        "id": "K-nosh02PZLZ"
      },
      "execution_count": null,
      "outputs": []
    },
    {
      "cell_type": "markdown",
      "source": [
        "feita por min"
      ],
      "metadata": {
        "id": "x2Rtapk1ziy1"
      }
    },
    {
      "cell_type": "code",
      "source": [
        "lista = [2,1,3,5,9,7,10,11,24]\n",
        "lista.sort()\n",
        "posicao_da_lista = len(lista) - 2\n",
        "print(lista[posicao_da_lista])\n"
      ],
      "metadata": {
        "colab": {
          "base_uri": "https://localhost:8080/"
        },
        "id": "uFy2gWxJT10E",
        "outputId": "590fa2c5-4267-42eb-d64f-d5b1d9a670de"
      },
      "execution_count": null,
      "outputs": [
        {
          "output_type": "stream",
          "name": "stdout",
          "text": [
            "11\n"
          ]
        }
      ]
    },
    {
      "cell_type": "markdown",
      "source": [
        "feita pelo gpt"
      ],
      "metadata": {
        "id": "S-VMCZwazmQl"
      }
    },
    {
      "cell_type": "code",
      "source": [
        "lista = [2, 1, 3, 5, 9, 7, 10, 11, 24]\n",
        "\n",
        "# Verifica se a lista tem pelo menos dois elementos\n",
        "if len(lista) >= 2:\n",
        "    lista.sort()\n",
        "    posicao_da_lista = len(lista) - 2\n",
        "    segundo_maior = lista[posicao_da_lista]\n",
        "    print(\"O segundo maior número é:\", segundo_maior)\n",
        "else:\n",
        "    print(\"A lista precisa ter pelo menos dois elementos para encontrar o segundo maior número.\")\n"
      ],
      "metadata": {
        "id": "pQx6QUCkT1xN"
      },
      "execution_count": null,
      "outputs": []
    },
    {
      "cell_type": "code",
      "source": [
        "#100 + 20 + 3\n",
        "\n",
        "#123 / 10\n",
        "\n",
        "\n",
        "def somar_numeros(numero):\n",
        "    while numero >= 10:\n",
        "        soma = 0\n",
        "\n",
        "        #enquanto numero maior que 10                 (123) maior que 0\n",
        "        while numero > 0:\n",
        "            #soma vai receber o ele mais o resto da divisão por 10\n",
        "\n",
        "            #0 = 0 + 3, soma agora vale  3\n",
        "            #3 = 3 + 1, soma agora vale  4\n",
        "            #4 = 4 + 1, soma agora vale  5\n",
        "            soma += numero % 10\n",
        "\n",
        "            #divide o numero por 10 e retorna apenas a parte inteira\n",
        "\n",
        "            #numero vale 12\n",
        "            #numero agora vale 1\n",
        "            #numero agora vale 0\n",
        "            numero //= 10\n",
        "\n",
        "\n",
        "        numero = soma\n",
        "    return numero\n",
        "\n",
        "def main():\n",
        "    numero = int(input(\"digite um numero inteiro positivo\"))\n",
        "    resultado = somar_numeros(numero)\n",
        "    print(\"a soma dos digitos desse numero é:\", resultado)\n",
        "\n",
        "main()\n"
      ],
      "metadata": {
        "colab": {
          "base_uri": "https://localhost:8080/"
        },
        "id": "yjVLKcpjzswM",
        "outputId": "839585cb-18fc-45a9-d6aa-e4d9d11bc5c7"
      },
      "execution_count": null,
      "outputs": [
        {
          "output_type": "stream",
          "name": "stdout",
          "text": [
            "digite um numero inteiro positivo123\n",
            "a soma dos digitos desse numero é: 6\n"
          ]
        }
      ]
    },
    {
      "cell_type": "code",
      "source": [
        "numeros = []\n",
        "valor = 0\n",
        "while True:\n",
        "    numero = int(input(\"digite um numero: \"))\n",
        "    if numero == 999:\n",
        "        break\n",
        "    else:\n",
        "        numeros.append(numero)\n",
        "\n",
        "for indice in numeros:\n",
        "    valor+=indice\n",
        "print(\"a soma dos valor são\",valor)"
      ],
      "metadata": {
        "colab": {
          "base_uri": "https://localhost:8080/"
        },
        "id": "p4N-8vlwzsp8",
        "outputId": "ff9b7827-b65f-4094-cadb-cdbab668d2d6"
      },
      "execution_count": 23,
      "outputs": [
        {
          "output_type": "stream",
          "name": "stdout",
          "text": [
            "digite um numero: 20\n",
            "digite um numero: 30\n",
            "digite um numero: 20\n",
            "digite um numero: 30\n",
            "digite um numero: 999\n",
            "a soma dos valor são 100\n"
          ]
        }
      ]
    },
    {
      "cell_type": "code",
      "source": [
        "numero = 0\n",
        "soma = 0\n",
        "contador = 0\n",
        "while True:\n",
        "    numero = int(input(\"digite um numero: \"))\n",
        "    if numero == 999: break\n",
        "    soma += numero\n",
        "    contador += 1\n",
        "print(\"a quantidade de numeros digitados\", contador)\n",
        "print(\"o valor final: \", soma)"
      ],
      "metadata": {
        "id": "02jvwRN8rlCe",
        "outputId": "51fba07c-0a7c-4ac7-b9ec-3369f8396be1",
        "colab": {
          "base_uri": "https://localhost:8080/"
        }
      },
      "execution_count": 39,
      "outputs": [
        {
          "output_type": "stream",
          "name": "stdout",
          "text": [
            "digite um numero: 10\n",
            "digite um numero: 20\n",
            "digite um numero: 999\n",
            "a quantidade de numeros digitados 2\n",
            "o valor final:  30\n"
          ]
        }
      ]
    }
  ]
}