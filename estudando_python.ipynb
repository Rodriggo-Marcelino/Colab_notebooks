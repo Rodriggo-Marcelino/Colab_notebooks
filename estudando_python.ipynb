{
  "nbformat": 4,
  "nbformat_minor": 0,
  "metadata": {
    "colab": {
      "provenance": [],
      "authorship_tag": "ABX9TyMtm6Wpl+DdieBYHtXE7hJV",
      "include_colab_link": true
    },
    "kernelspec": {
      "name": "python3",
      "display_name": "Python 3"
    },
    "language_info": {
      "name": "python"
    }
  },
  "cells": [
    {
      "cell_type": "markdown",
      "metadata": {
        "id": "view-in-github",
        "colab_type": "text"
      },
      "source": [
        "<a href=\"https://colab.research.google.com/github/Rodriggo-Marcelino/Colab_notebooks/blob/rodriggo/estudando_python.ipynb\" target=\"_parent\"><img src=\"https://colab.research.google.com/assets/colab-badge.svg\" alt=\"Open In Colab\"/></a>"
      ]
    },
    {
      "cell_type": "code",
      "execution_count": null,
      "metadata": {
        "id": "p63VbIChMNm5"
      },
      "outputs": [],
      "source": [
        "print(\"hello world\")"
      ]
    },
    {
      "cell_type": "markdown",
      "source": [
        "# Introdução ao curso de **python**\n",
        "\n",
        "Entrada de dados\n",
        "\n",
        "-Basicamente o input se refere a entrada de dados dentro de uma variavel.\n",
        "\n",
        "\n",
        "-Outro ponto importante é que podemos efetuar o casting no qual limitamos a entrada de dados para um tipo especifico, um exemplo é a variavel idade, onde não podemos receber um texto, limitamos a entrada para o tipo int, assim o usuario não poderá digitar algo diferente de um numero inteiro.\n"
      ],
      "metadata": {
        "id": "zxz3eKDkOgzN"
      }
    },
    {
      "cell_type": "code",
      "source": [
        "nome = str(input(\"Digite seu nome:\"))\n",
        "idade = int(input('Digite sua idade:'))\n",
        "peso = float(input('Digite seu peso:'))\n",
        "\n",
        "print(nome)\n",
        "print(idade)\n",
        "print(peso)"
      ],
      "metadata": {
        "id": "TWsSp13oMwvr"
      },
      "execution_count": null,
      "outputs": []
    },
    {
      "cell_type": "markdown",
      "source": [
        "# Dentro do print podemos encapsular o nome da variavel em uma função chamada **type** onde ela irá retornar o tipo da variavel.  "
      ],
      "metadata": {
        "id": "xTi73x0oQKGZ"
      }
    },
    {
      "cell_type": "code",
      "source": [
        "print(type(nome))\n",
        "print(type(idade))\n",
        "print(type(peso))\n"
      ],
      "metadata": {
        "id": "QxgE9S-TN8p5"
      },
      "execution_count": null,
      "outputs": []
    },
    {
      "cell_type": "markdown",
      "source": [
        "# Operadores aritimeticos\n",
        "\n",
        "Aqui vemos os operadores aritimeticos, com eles podemos efetuar calculos."
      ],
      "metadata": {
        "id": "vpJuOUhrmW2S"
      }
    },
    {
      "cell_type": "code",
      "source": [
        "soma = 1+1\n",
        "subtracao = 9-2\n",
        "multiplicacao = 4*4\n",
        "divisao = 30/3\n",
        "potenciacao = 7**2\n",
        "\n",
        "print(\"soma: \", soma)\n",
        "print(\"subtação: \", subtracao)\n",
        "print(\"multiplicação: \", multiplicacao)\n",
        "print(\"divisão: \", divisao)\n",
        "print(\"potenciação: \", potenciacao)"
      ],
      "metadata": {
        "id": "1XCky3OVRRqp"
      },
      "execution_count": null,
      "outputs": []
    },
    {
      "cell_type": "markdown",
      "source": [
        "# Operadores logicos e condicionais\n",
        "\n",
        "O primiro passo para enterdermos condicionais é que ela sempre irá retornar um valor boletano ou seja, verdadeiro e falso (true, false).\n",
        "\n",
        "com isso temos os operadores logicos e os operadores de comparação.\n",
        "\n",
        "\n",
        "1.   `and`: Retorna True se ambos os operandos forem verdadeiros.\n",
        "2.   `or`: Retorna True se pelo menos um dos operandos for verdadeiro.\n",
        "3.   `not`: Retorna True se o operando for falso e False se for verdadeiro, invertendo assim o valor booleano.\n",
        "\n",
        "Logo mais temos os operadores de comparação:\n",
        "\n",
        "1. `==`: Igual a\n",
        "2. `!=`: Diferente de\n",
        "3. `<`: Menor que\n",
        "4. `<=`: Menor ou igual a\n",
        "5. `>`: Maior que\"\n",
        "6. `>=`: Maior ou igual a\n",
        "\n",
        "Todos esses comparades são usando dentro de condicionais.\n",
        "\n",
        "\n",
        "\n",
        "\n",
        "\n",
        "\n"
      ],
      "metadata": {
        "id": "bvRTKzCGm9Of"
      }
    },
    {
      "cell_type": "code",
      "source": [
        "idade = int(input(\"Digite sua idade: \"))\n",
        "\n",
        "if idade >= 18:\n",
        "    print(\"permitido\")\n",
        "else:\n",
        "    print(\"bloqueado\")"
      ],
      "metadata": {
        "id": "9p0okh_tTLZE"
      },
      "execution_count": null,
      "outputs": []
    },
    {
      "cell_type": "code",
      "source": [
        "salario = float(input(\"Digite seu salario: \"))\n",
        "\n",
        "if salario <= 3000:\n",
        "    print(\"programador junior\")\n",
        "elif salario > 3000 and salario <= 6000:\n",
        "    print(\"programador pleno\")\n",
        "elif salario > 6000 and salario <= 15000:\n",
        "    print(\"programador senior\")\n",
        "else:\n",
        "    print(\"gerente de projetos\")"
      ],
      "metadata": {
        "id": "7qyzFJbgUuD3"
      },
      "execution_count": null,
      "outputs": []
    },
    {
      "cell_type": "markdown",
      "source": [
        "# Listas\n",
        "\n",
        "A lista é uma variavel que pode armazenar varios valores ao mesmo tempo, esses valores podem ser de diferentes tipos simultaneamente.\n",
        "\n",
        "para acessar a posição na lista basta usar `nome_da_variavel[1]` entre colchetes o valor equivale a posição do array começando sempre do `0`."
      ],
      "metadata": {
        "id": "6o9AsKQNpYAd"
      }
    },
    {
      "cell_type": "code",
      "source": [
        "lista_numeros = [1,2,3]\n",
        "\n",
        "print(lista_numeros[0])\n",
        "print(lista_numeros[1])\n",
        "print(lista_numeros[2])"
      ],
      "metadata": {
        "id": "ss-Wteg6eZoM"
      },
      "execution_count": null,
      "outputs": []
    },
    {
      "cell_type": "markdown",
      "source": [
        "Adiciona um elemento no final da lista"
      ],
      "metadata": {
        "id": "4LbEvhNxrW6U"
      }
    },
    {
      "cell_type": "code",
      "source": [
        "lista_numeros.append(4)\n",
        "print(lista_numeros)\n",
        "print(len(lista_numeros))"
      ],
      "metadata": {
        "id": "uaxz1OpyJv3W"
      },
      "execution_count": null,
      "outputs": []
    },
    {
      "cell_type": "markdown",
      "source": [
        "Adiciona os elementos de uma lista no final de outra"
      ],
      "metadata": {
        "id": "Q-FncX9drjIz"
      }
    },
    {
      "cell_type": "code",
      "source": [
        "novos_numeros = [5,6,7,8]\n",
        "lista_numeros.extend(novos_numeros)\n",
        "print(lista_numeros)"
      ],
      "metadata": {
        "id": "9GwWNKbsJvr-"
      },
      "execution_count": null,
      "outputs": []
    },
    {
      "cell_type": "markdown",
      "source": [
        "Insere o numero `5` na posição `1` ou sejá na chamada desse função o primeiro parametro é a posição o segundo é o valor inserido"
      ],
      "metadata": {
        "id": "VnCcnz1LLmwb"
      }
    },
    {
      "cell_type": "code",
      "source": [
        "lista_numeros.insert(1 ,5)\n",
        "print(lista_numeros)"
      ],
      "metadata": {
        "id": "25Q-ddHVJve2"
      },
      "execution_count": null,
      "outputs": []
    },
    {
      "cell_type": "markdown",
      "source": [
        "Remove o primeiro item com o valor que foi escolhido"
      ],
      "metadata": {
        "id": "ioRXWnAOrxM5"
      }
    },
    {
      "cell_type": "code",
      "source": [
        "lista_numeros.remove(4)\n",
        "print(lista_numeros)"
      ],
      "metadata": {
        "id": "3Aspoq2dL4FL"
      },
      "execution_count": null,
      "outputs": []
    },
    {
      "cell_type": "markdown",
      "source": [
        "Remove e retorna o numero removido  "
      ],
      "metadata": {
        "id": "ukj_1p_HsULw"
      }
    },
    {
      "cell_type": "code",
      "source": [
        "elemento_removido = lista_numeros.pop(4)\n",
        "print(elemento_removido)\n",
        "print(lista_numeros)"
      ],
      "metadata": {
        "id": "PfMyJmUZL3-a"
      },
      "execution_count": null,
      "outputs": []
    },
    {
      "cell_type": "markdown",
      "source": [
        "Retorna o indice da primeira ocorencia com o valor especificado"
      ],
      "metadata": {
        "id": "AybUot-qsa04"
      }
    },
    {
      "cell_type": "code",
      "source": [
        "indice = lista_numeros.index(6)\n",
        "print(indice)"
      ],
      "metadata": {
        "id": "n_tIQjkAL326"
      },
      "execution_count": null,
      "outputs": []
    },
    {
      "cell_type": "markdown",
      "source": [
        "Retorna quantas vezes o valor especificado aparece na lista"
      ],
      "metadata": {
        "id": "t93Gf5lxsin4"
      }
    },
    {
      "cell_type": "code",
      "source": [
        "quantidade = lista_numeros.count(3)\n",
        "print(quantidade)"
      ],
      "metadata": {
        "id": "xTUPgwu2M_cQ"
      },
      "execution_count": null,
      "outputs": []
    },
    {
      "cell_type": "markdown",
      "source": [
        "Ordena os elementos da lista"
      ],
      "metadata": {
        "id": "IxXeYkAjsrK_"
      }
    },
    {
      "cell_type": "code",
      "source": [
        "lista_numeros.sort()\n",
        "print(lista_numeros)"
      ],
      "metadata": {
        "id": "e6pXtGNZM_Ug"
      },
      "execution_count": null,
      "outputs": []
    },
    {
      "cell_type": "markdown",
      "source": [
        "Inverte a ordem dos elementos da lista"
      ],
      "metadata": {
        "id": "F9MYXJd5svx_"
      }
    },
    {
      "cell_type": "code",
      "source": [
        "lista_numeros.reverse()\n",
        "print(lista_numeros)"
      ],
      "metadata": {
        "id": "nqqOBkjIM_Lo"
      },
      "execution_count": null,
      "outputs": []
    },
    {
      "cell_type": "markdown",
      "source": [
        "Retorna uma copia superficial da lista"
      ],
      "metadata": {
        "id": "oelwobw1s4ZX"
      }
    },
    {
      "cell_type": "code",
      "source": [
        "copia_lista = lista_numeros.copy()\n",
        "print(copia_lista)"
      ],
      "metadata": {
        "id": "eou3wdK3oG0V"
      },
      "execution_count": null,
      "outputs": []
    },
    {
      "cell_type": "markdown",
      "source": [
        "Remove todos os elementos da lista"
      ],
      "metadata": {
        "id": "R4IKzZoctDOW"
      }
    },
    {
      "cell_type": "code",
      "source": [
        "lista_numeros.clear()\n",
        "print(lista_numeros)"
      ],
      "metadata": {
        "id": "M4miEJ1OoGr1"
      },
      "execution_count": null,
      "outputs": []
    },
    {
      "cell_type": "markdown",
      "source": [
        "Retorna true se qualquer elemento da lista for verdadeiro"
      ],
      "metadata": {
        "id": "SCdTJC1wYXa_"
      }
    },
    {
      "cell_type": "code",
      "source": [
        "resultado = any(lista_numeros)\n",
        "print(resultado)"
      ],
      "metadata": {
        "id": "uCs0JALuoGnl"
      },
      "execution_count": null,
      "outputs": []
    },
    {
      "cell_type": "markdown",
      "source": [
        "Retorna true se todos os elementos da lista forem verdadeiros"
      ],
      "metadata": {
        "id": "e_yW6PC1g9ba"
      }
    },
    {
      "cell_type": "code",
      "source": [
        "resultado = all(lista_numeros)\n",
        "print(resultado)"
      ],
      "metadata": {
        "id": "Uw4ERwN4oGgV"
      },
      "execution_count": null,
      "outputs": []
    },
    {
      "cell_type": "markdown",
      "source": [
        "Retorna a enumeração de tuplas contendo, indice e valores"
      ],
      "metadata": {
        "id": "2YsGB5PJhGRi"
      }
    },
    {
      "cell_type": "code",
      "source": [
        "lista = ['a', 'b', 'c']\n",
        "for indice, valor in enumerate(lista):\n",
        "    print(indice,valor)"
      ],
      "metadata": {
        "id": "6zcU3OzHoGOO"
      },
      "execution_count": null,
      "outputs": []
    },
    {
      "cell_type": "markdown",
      "source": [
        "Aplica uma função a todos os elementos da lista `map`"
      ],
      "metadata": {
        "id": "w6PYPWjqhVwB"
      }
    },
    {
      "cell_type": "code",
      "source": [
        "lista = [1,2,3]\n",
        "nova_lista = list(map(lambda x: x * 2, lista))\n",
        "print(nova_lista)"
      ],
      "metadata": {
        "id": "Dl_n3iGPo7Uj"
      },
      "execution_count": null,
      "outputs": []
    },
    {
      "cell_type": "markdown",
      "source": [
        "Filtra elementos da lista com base em uma função"
      ],
      "metadata": {
        "id": "JQXkBEnHhfdo"
      }
    },
    {
      "cell_type": "code",
      "source": [
        "lista = [1,2,3,4,5]\n",
        "nova_lista = list(map(lambda x: x % 2 == 0, lista))\n",
        "print(nova_lista)"
      ],
      "metadata": {
        "id": "8n6Iv0voo7NL",
        "colab": {
          "base_uri": "https://localhost:8080/"
        },
        "outputId": "c4aa04fd-258d-44fd-9458-effc33ef6d7b"
      },
      "execution_count": 1,
      "outputs": [
        {
          "output_type": "stream",
          "name": "stdout",
          "text": [
            "[False, True, False, True, False]\n"
          ]
        }
      ]
    },
    {
      "cell_type": "markdown",
      "source": [
        "# Tuplas\n",
        "\n",
        "Tuplas são como listas porém não são mutaveis.  "
      ],
      "metadata": {
        "id": "jsy7re7ZiE9_"
      }
    },
    {
      "cell_type": "code",
      "source": [
        "tupla = (1,2,3)\n",
        "\n",
        "a,b,c = tupla\n",
        "\n",
        "print(a)\n",
        "print(b)\n",
        "print(c)"
      ],
      "metadata": {
        "colab": {
          "base_uri": "https://localhost:8080/"
        },
        "id": "yZuJXJ5siSJ-",
        "outputId": "349d7255-a62e-48d4-a410-e8e9f906cb2f"
      },
      "execution_count": 2,
      "outputs": [
        {
          "output_type": "stream",
          "name": "stdout",
          "text": [
            "1\n",
            "2\n",
            "3\n"
          ]
        }
      ]
    },
    {
      "cell_type": "code",
      "source": [
        "tupla = (1,2,2,2,3,3,3,3)\n",
        "print(tupla.count(2))\n",
        "print(tupla.count(3))"
      ],
      "metadata": {
        "colab": {
          "base_uri": "https://localhost:8080/"
        },
        "id": "mNczcfoSiijN",
        "outputId": "916ae813-2527-4bb3-f562-fe5a586a58cc"
      },
      "execution_count": 4,
      "outputs": [
        {
          "output_type": "stream",
          "name": "stdout",
          "text": [
            "3\n",
            "4\n"
          ]
        }
      ]
    },
    {
      "cell_type": "code",
      "source": [
        "tupla = (1,2,3)\n",
        "\n",
        "for item in tupla:\n",
        "    print(item)"
      ],
      "metadata": {
        "colab": {
          "base_uri": "https://localhost:8080/"
        },
        "id": "W0MD9yuPiwx8",
        "outputId": "4ee57177-b3c0-4cff-ab9b-5111bea7bff4"
      },
      "execution_count": 5,
      "outputs": [
        {
          "output_type": "stream",
          "name": "stdout",
          "text": [
            "1\n",
            "2\n",
            "3\n"
          ]
        }
      ]
    },
    {
      "cell_type": "markdown",
      "source": [
        "# Laços de repetição ou loops\n",
        "\n",
        "\n",
        "Os laços de repetição tem diversas utilidades, mas de maneira mais chula a utilidade dela é repetir o algoritimo dentro dela uma certa quantidade de vezes.\n"
      ],
      "metadata": {
        "id": "KvMEqzUVtLwl"
      }
    },
    {
      "cell_type": "markdown",
      "source": [
        "For\n",
        "\n",
        "vamos começar com o for, usando esse algoritmo como exemplo, criamos 2 laços de repetição `for` com a utilidade de inserir um array com os valores de `[codigo_aluno,nota]` dentro do array notas, quando criamos o `range(5)` definimos que o algoritmo irá se repetir 5x com isso no final teremos um array assim: `notas = [[codigo_aluno,nota],[codigo_aluno,nota],[codigo_aluno,nota],[codigo_aluno,nota],[codigo_aluno,nota]]`"
      ],
      "metadata": {
        "id": "ph1GECNbt2Gd"
      }
    },
    {
      "cell_type": "code",
      "source": [
        "notas = []\n",
        "\n",
        "for i in range(5):\n",
        "    codigo_aluno = input(\"RM: \")\n",
        "    nota = float(input(\"Nota: \"))\n",
        "    resultado = [codigo_aluno, nota]\n",
        "    notas.append(resultado)\n",
        "\n",
        "print(\"quantidade de notas\", len(notas))"
      ],
      "metadata": {
        "id": "c_-XzXede1KD"
      },
      "execution_count": null,
      "outputs": []
    },
    {
      "cell_type": "markdown",
      "source": [
        "já nesse segundo `for` o objetivo e percorrer a matriz gerada anteriormente.\n",
        "\n",
        "Podemos dentro do `for`, usar o array criado como parametro de tamanho em vez de usar o `range()`."
      ],
      "metadata": {
        "id": "e4GCmQ0JvdAL"
      }
    },
    {
      "cell_type": "code",
      "source": [
        "for n in notas:\n",
        "    codigo_aluno = n[0]\n",
        "    nota = n[1]\n",
        "    print(\"o RM:\", codigo_aluno, \"tirou a nota: \", nota)"
      ],
      "metadata": {
        "id": "hHw39eVavZDb"
      },
      "execution_count": null,
      "outputs": []
    },
    {
      "cell_type": "code",
      "source": [
        "print(list(notas))"
      ],
      "metadata": {
        "id": "xyY088xSh3fY"
      },
      "execution_count": null,
      "outputs": []
    },
    {
      "cell_type": "markdown",
      "source": [
        "Em sequida criamos uma alternativa para o primeiro laço de repetição descrito anteriormente, para inserir os dados\n",
        "\n",
        "O `while` pode ser usado com uma operação logica, ou seja funciona como uma condicional, enquanto aquela condicional não for satisfeita o laço continuará, oq usamos como parametro foi uma variavel chamada `contador` que ela inicia com o valor 1, e a cada iteração do loop ela efetua um incremento, que quando esse numero chegar em 6 o programa irá finalizar  "
      ],
      "metadata": {
        "id": "1wOEnO1swUCy"
      }
    },
    {
      "cell_type": "code",
      "source": [
        "notas = []\n",
        "\n",
        "contador = 1\n",
        "\n",
        "while contador <= 5:\n",
        "    codigo_aluno = input(\"RM: \")\n",
        "    nota = float(input(\"Nota: \"))\n",
        "    resultado = [codigo_aluno, nota]\n",
        "    notas.append(resultado)\n",
        "\n",
        "    contador+=1\n",
        "print(\"quantidade de notas: \", len(notas))"
      ],
      "metadata": {
        "id": "MCXliV9giFYO"
      },
      "execution_count": null,
      "outputs": []
    },
    {
      "cell_type": "markdown",
      "source": [
        "# Dicionarios\n",
        "\n",
        "Os dicionarios funcionam como os arrays, porém nomeamos cada posição."
      ],
      "metadata": {
        "id": "gYjQ5tUJx--2"
      }
    },
    {
      "cell_type": "code",
      "source": [
        "pessoa = {\n",
        "    \"nome\": \"rodriggo\",\n",
        "    \"idade\": 22,\n",
        "    \"peso\": 80.5\n",
        "}\n",
        "\n",
        "print(pessoa['nome'])\n",
        "print(pessoa['idade'])\n",
        "print(pessoa['peso'])"
      ],
      "metadata": {
        "colab": {
          "base_uri": "https://localhost:8080/"
        },
        "id": "JpUPh9qXi3ch",
        "outputId": "e842a453-8ba1-4fda-8f76-828b63cdd2ed"
      },
      "execution_count": null,
      "outputs": [
        {
          "output_type": "stream",
          "name": "stdout",
          "text": [
            "rodriggo\n",
            "22\n",
            "80.5\n"
          ]
        }
      ]
    },
    {
      "cell_type": "markdown",
      "source": [
        "Tambem é possivel usar laços de repetição pra os dicionarios."
      ],
      "metadata": {
        "id": "_s87Swivy9z0"
      }
    },
    {
      "cell_type": "code",
      "source": [
        "player = {\n",
        "    \"nome\": \"rodriggo\",\n",
        "    \"level\": 1,\n",
        "    \"hp\": 100,\n",
        "    \"exp\": 0,\n",
        "    \"dano\": 5\n",
        "}\n",
        "\n",
        "npcs = [\n",
        "    {\"nome\": \"monstrinho\", \"dano\": 2, \"hp\":50, \"exp\": 5},\n",
        "    {\"nome\": \"elfo\", \"dano\": 2, \"hp\": 100, \"exp\": 5},\n",
        "    {\"nome\": \"mago\", \"dano\": 5, \"hp\": 150, \"exp\": 6},\n",
        "    {\"nome\": \"dragão\", \"dano\": 6, \"hp\": 200, \"exp\": 10}\n",
        "]\n",
        "\n",
        "for i in npcs:\n",
        "    print(i[\"nome\"])"
      ],
      "metadata": {
        "colab": {
          "base_uri": "https://localhost:8080/"
        },
        "id": "78x3nyGujx_M",
        "outputId": "f7688e0f-3469-4a19-ed31-a5cacc49b350"
      },
      "execution_count": null,
      "outputs": [
        {
          "output_type": "stream",
          "name": "stdout",
          "text": [
            "monstrinho\n",
            "elfo\n",
            "mago\n",
            "dragão\n"
          ]
        }
      ]
    }
  ]
}