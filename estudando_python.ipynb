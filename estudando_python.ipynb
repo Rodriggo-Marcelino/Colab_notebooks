{
  "nbformat": 4,
  "nbformat_minor": 0,
  "metadata": {
    "colab": {
      "provenance": [],
      "authorship_tag": "ABX9TyPcG5HlakMwtt1rjz1hZGiY",
      "include_colab_link": true
    },
    "kernelspec": {
      "name": "python3",
      "display_name": "Python 3"
    },
    "language_info": {
      "name": "python"
    }
  },
  "cells": [
    {
      "cell_type": "markdown",
      "metadata": {
        "id": "view-in-github",
        "colab_type": "text"
      },
      "source": [
        "<a href=\"https://colab.research.google.com/github/Rodriggo-Marcelino/Colab_notebooks/blob/rodriggo/estudando_python.ipynb\" target=\"_parent\"><img src=\"https://colab.research.google.com/assets/colab-badge.svg\" alt=\"Open In Colab\"/></a>"
      ]
    },
    {
      "cell_type": "code",
      "execution_count": null,
      "metadata": {
        "id": "p63VbIChMNm5"
      },
      "outputs": [],
      "source": [
        "print(\"hello world\")"
      ]
    },
    {
      "cell_type": "markdown",
      "source": [
        "# Introdução ao curso de **python**\n",
        "\n",
        "Entrada de dados\n",
        "\n",
        "-Basicamente o input se refere a entrada de dados dentro de uma variavel.\n",
        "\n",
        "\n",
        "-Outro ponto importante é que podemos efetuar o casting no qual limitamos a entrada de dados para um tipo especifico, um exemplo é a variavel idade, onde não podemos receber um texto, limitamos a entrada para o tipo int, assim o usuario não poderá digitar algo diferente de um numero inteiro.\n"
      ],
      "metadata": {
        "id": "zxz3eKDkOgzN"
      }
    },
    {
      "cell_type": "code",
      "source": [
        "nome = str(input(\"Digite seu nome:\"))\n",
        "idade = int(input('Digite sua idade:'))\n",
        "peso = float(input('Digite seu peso:'))\n",
        "\n",
        "print(nome)\n",
        "print(idade)\n",
        "print(peso)"
      ],
      "metadata": {
        "colab": {
          "base_uri": "https://localhost:8080/"
        },
        "id": "TWsSp13oMwvr",
        "outputId": "fd1ee066-7b45-4aac-fcc8-6e1b0e4c6109"
      },
      "execution_count": 4,
      "outputs": [
        {
          "output_type": "stream",
          "name": "stdout",
          "text": [
            "Digite seu nome:rodriggo\n",
            "Digite sua idade:22\n",
            "Digite seu peso:50\n",
            "rodriggo\n",
            "22\n",
            "50.0\n"
          ]
        }
      ]
    },
    {
      "cell_type": "markdown",
      "source": [
        "# Dentro do print podemos encapsular o nome da variavel em uma função chamada **type** onde ela irá retornar o tipo da variavel.  "
      ],
      "metadata": {
        "id": "xTi73x0oQKGZ"
      }
    },
    {
      "cell_type": "code",
      "source": [
        "print(type(nome))\n",
        "print(type(idade))\n",
        "print(type(peso))\n"
      ],
      "metadata": {
        "colab": {
          "base_uri": "https://localhost:8080/"
        },
        "id": "QxgE9S-TN8p5",
        "outputId": "9ba98467-da04-4ebd-bb6f-7c739aebd02f"
      },
      "execution_count": 5,
      "outputs": [
        {
          "output_type": "stream",
          "name": "stdout",
          "text": [
            "<class 'str'>\n",
            "<class 'int'>\n",
            "<class 'float'>\n"
          ]
        }
      ]
    },
    {
      "cell_type": "code",
      "source": [
        "soma = 1+1\n",
        "subtracao = 9-2\n",
        "multiplicacao = 4*4\n",
        "divisao = 30/3\n",
        "potenciacao = 7**2\n",
        "\n",
        "print(\"soma: \", soma)\n",
        "print(\"subtação: \", subtracao)\n",
        "print(\"multiplicação: \", multiplicacao)\n",
        "print(\"divisão: \", divisao)\n",
        "print(\"potenciação: \", potenciacao)"
      ],
      "metadata": {
        "colab": {
          "base_uri": "https://localhost:8080/"
        },
        "id": "1XCky3OVRRqp",
        "outputId": "2af16df9-b784-423b-ccce-d2f4ee8a3a36"
      },
      "execution_count": 7,
      "outputs": [
        {
          "output_type": "stream",
          "name": "stdout",
          "text": [
            "soma:  2\n",
            "subtação:  7\n",
            "multiplicação:  16\n",
            "divisão:  10.0\n",
            "potenciação:  49\n"
          ]
        }
      ]
    },
    {
      "cell_type": "code",
      "source": [
        "idade = int(input(\"Digite sua idade: \"))\n",
        "\n",
        "if idade >= 18:\n",
        "    print(\"permitido\")\n",
        "else:\n",
        "    print(\"bloqueado\")"
      ],
      "metadata": {
        "colab": {
          "base_uri": "https://localhost:8080/"
        },
        "id": "9p0okh_tTLZE",
        "outputId": "cd1eaf7d-0647-4119-b81a-7648149bfca9"
      },
      "execution_count": 12,
      "outputs": [
        {
          "output_type": "stream",
          "name": "stdout",
          "text": [
            "Digite sua idade: 20\n",
            "permitido\n"
          ]
        }
      ]
    }
  ]
}